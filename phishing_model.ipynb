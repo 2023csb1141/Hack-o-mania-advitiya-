{
 "cells": [
  {
   "cell_type": "markdown",
   "metadata": {},
   "source": [
    "so now we will be start working on my project for the hackathon"
   ]
  },
  {
   "cell_type": "code",
   "execution_count": 365,
   "metadata": {},
   "outputs": [],
   "source": [
    "import numpy as np\n",
    "import pandas as pd\n",
    "import matplotlib.pyplot as plt"
   ]
  },
  {
   "cell_type": "code",
   "execution_count": 366,
   "metadata": {},
   "outputs": [
    {
     "data": {
      "text/html": [
       "<div>\n",
       "<style scoped>\n",
       "    .dataframe tbody tr th:only-of-type {\n",
       "        vertical-align: middle;\n",
       "    }\n",
       "\n",
       "    .dataframe tbody tr th {\n",
       "        vertical-align: top;\n",
       "    }\n",
       "\n",
       "    .dataframe thead th {\n",
       "        text-align: right;\n",
       "    }\n",
       "</style>\n",
       "<table border=\"1\" class=\"dataframe\">\n",
       "  <thead>\n",
       "    <tr style=\"text-align: right;\">\n",
       "      <th></th>\n",
       "      <th>Subject</th>\n",
       "      <th>Text</th>\n",
       "      <th>Type</th>\n",
       "    </tr>\n",
       "  </thead>\n",
       "  <tbody>\n",
       "    <tr>\n",
       "      <th>0</th>\n",
       "      <td>URGENT BUSINESS ASSISTANCE AND PARTNERSHIP</td>\n",
       "      <td>URGENT BUSINESS ASSISTANCE AND PARTNERSHIP.\\n\\...</td>\n",
       "      <td>Fraud</td>\n",
       "    </tr>\n",
       "    <tr>\n",
       "      <th>1</th>\n",
       "      <td>URGENT ASSISTANCE /RELATIONSHIP (P)</td>\n",
       "      <td>Dear Friend,\\n\\nI am Mr. Ben Suleman a custom ...</td>\n",
       "      <td>Fraud</td>\n",
       "    </tr>\n",
       "    <tr>\n",
       "      <th>2</th>\n",
       "      <td>GOOD DAY TO YOU</td>\n",
       "      <td>FROM HIS ROYAL MAJESTY (HRM) CROWN RULER OF EL...</td>\n",
       "      <td>Fraud</td>\n",
       "    </tr>\n",
       "    <tr>\n",
       "      <th>3</th>\n",
       "      <td>from Mrs.Johnson</td>\n",
       "      <td>Goodday Dear\\n\\n\\nI know this mail will come t...</td>\n",
       "      <td>Fraud</td>\n",
       "    </tr>\n",
       "    <tr>\n",
       "      <th>4</th>\n",
       "      <td>Co-Operation</td>\n",
       "      <td>FROM MR. GODWIN AKWESI\\nTEL: +233 208216645\\nF...</td>\n",
       "      <td>Fraud</td>\n",
       "    </tr>\n",
       "  </tbody>\n",
       "</table>\n",
       "</div>"
      ],
      "text/plain": [
       "                                      Subject  \\\n",
       "0  URGENT BUSINESS ASSISTANCE AND PARTNERSHIP   \n",
       "1         URGENT ASSISTANCE /RELATIONSHIP (P)   \n",
       "2                             GOOD DAY TO YOU   \n",
       "3                            from Mrs.Johnson   \n",
       "4                                Co-Operation   \n",
       "\n",
       "                                                Text   Type  \n",
       "0  URGENT BUSINESS ASSISTANCE AND PARTNERSHIP.\\n\\...  Fraud  \n",
       "1  Dear Friend,\\n\\nI am Mr. Ben Suleman a custom ...  Fraud  \n",
       "2  FROM HIS ROYAL MAJESTY (HRM) CROWN RULER OF EL...  Fraud  \n",
       "3  Goodday Dear\\n\\n\\nI know this mail will come t...  Fraud  \n",
       "4  FROM MR. GODWIN AKWESI\\nTEL: +233 208216645\\nF...  Fraud  "
      ]
     },
     "execution_count": 366,
     "metadata": {},
     "output_type": "execute_result"
    }
   ],
   "source": [
    "df= pd.read_csv('mail_phishing_1.csv')\n",
    "df.head()"
   ]
  },
  {
   "cell_type": "code",
   "execution_count": 367,
   "metadata": {},
   "outputs": [
    {
     "name": "stdout",
     "output_type": "stream",
     "text": [
      "(159, 3)\n"
     ]
    },
    {
     "data": {
      "text/plain": [
       "Subject    2\n",
       "Text       0\n",
       "Type       0\n",
       "dtype: int64"
      ]
     },
     "execution_count": 367,
     "metadata": {},
     "output_type": "execute_result"
    }
   ],
   "source": [
    "print(df.shape)\n",
    "df.isna().sum()"
   ]
  },
  {
   "cell_type": "code",
   "execution_count": 368,
   "metadata": {},
   "outputs": [
    {
     "data": {
      "text/plain": [
       "Subject    0\n",
       "Text       0\n",
       "Type       0\n",
       "dtype: int64"
      ]
     },
     "execution_count": 368,
     "metadata": {},
     "output_type": "execute_result"
    }
   ],
   "source": [
    "# we will clean the data of the na values\n",
    "df.dropna(inplace=True)\n",
    "df.isna().sum()\n"
   ]
  },
  {
   "cell_type": "code",
   "execution_count": null,
   "metadata": {},
   "outputs": [],
   "source": []
  },
  {
   "cell_type": "code",
   "execution_count": 369,
   "metadata": {},
   "outputs": [
    {
     "name": "stdout",
     "output_type": "stream",
     "text": [
      "                                               Subject  \\\n",
      "0           URGENT BUSINESS ASSISTANCE AND PARTNERSHIP   \n",
      "1                  URGENT ASSISTANCE /RELATIONSHIP (P)   \n",
      "2                                      GOOD DAY TO YOU   \n",
      "3                                     from Mrs.Johnson   \n",
      "4                                         Co-Operation   \n",
      "5                                          With Regard   \n",
      "6                                     ATTENTION PLEASE   \n",
      "7                                   FROM MISS VICTORIA   \n",
      "8                              FROM MRS.COMFORT SOMBA.   \n",
      "9                                          transaction   \n",
      "10                           YOUR COMPLIANCE IS NEEDED   \n",
      "11                            why i contacted you sir!   \n",
      "12                            MY MAIL MESSAGE TO YOU!!   \n",
      "13                      Re: Your Kind Attention Needed   \n",
      "14                                        Dear Friend,   \n",
      "15                                       Dr. Musa Dura   \n",
      "16                            Inquiry From David Bryan   \n",
      "17                                 ATTN:URGENT PLEASE.   \n",
      "18   CONFIRM YOUR PAYMENT, I NEED YOUR RESPONSE TO ...   \n",
      "19                                          BLESSINGS.   \n",
      "20                                        (no subject)   \n",
      "21                                    FROM RITA DOINK.   \n",
      "22                                       DEAR BELOVED,   \n",
      "23                             From Mrs. monica edmond   \n",
      "24   FROM   MISS  PRINCES  ELIZBERTH  DAUGTHER  HON...   \n",
      "25                                    With Due Respect   \n",
      "26                                        Miss Joy Kem   \n",
      "27                                 Season's Greetings!   \n",
      "28                                  URGENT MESSAGE....   \n",
      "29                                       URGENT REPLY    \n",
      "30                          From: Mr.Al-Zarqawi Yusuf    \n",
      "31                                        COMPERSATION   \n",
      "32                                      VERY IMPORTANT   \n",
      "33                                              LETTER   \n",
      "34                                 For Urgent Response   \n",
      "35                                     URGENT RESSPOND   \n",
      "36                                   TRUST TRANSACTION   \n",
      "37                                              URGENT   \n",
      "38                                            MICHAEL!   \n",
      "39                             I Need Your Assistance.   \n",
      "40   Notification of Limited Account Access (Routin...   \n",
      "41   OFFICIAL INFORMATION FOR CLIENT OF SOUTHTRUST ...   \n",
      "42                          eBay account verification!   \n",
      "43              FCU NOTICE: Important security renewal   \n",
      "44   0fficiaI Information To CIient Of Fifth Third ...   \n",
      "45   Due security reasons we may have to close your...   \n",
      "46                                Online Banking Alert   \n",
      "47             Your account is temporarily suspended !   \n",
      "48                 Update your Bank of America account   \n",
      "49                                 Amazon.com  Inquiry   \n",
      "50                                    NetBank Activity   \n",
      "51                                Account verification   \n",
      "52   We Want To Hear From You.Take This $20 Reward ...   \n",
      "53    Urgent Notice From BiIIing Department  [id: 297]   \n",
      "54   𝗟𝗶𝗳𝗲 𝘄𝗼𝗿𝗸𝘀 𝗶𝗻 𝗺𝘆𝘀𝘁𝗲𝗿𝗶𝗼𝘂𝘀 𝘄𝗮𝘆𝘀. 𝗜𝘀 𝘆𝗼𝘂𝗿 𝗺𝗮𝘁𝗰𝗵 𝘄...   \n",
      "55   𝗙𝗶𝗻𝗮𝗹 𝗡𝗼𝘁𝗶𝗰𝗲 Costco..Reward Expiring Soon!.......   \n",
      "56   Hit This Pressure Point To Increase Your Size ...   \n",
      "58   Tense This Muscle For 1 Min To Unlock Massive ...   \n",
      "59                        (Thank you for your inquiry)   \n",
      "60         Invitation to Professional Business Network   \n",
      "61   __️_️➤_️Check_Your_Account__LuckyCreek_Casino_...   \n",
      "62              Password for Luxoft e-consent portal\\r   \n",
      "63                         Membership,information 9917   \n",
      "64                    Get Big Full Lashes Naturally!\\r   \n",
      "65              Walgreens reward - Open immediately \\n   \n",
      "66   Date Easy with English Speaking Ukrainian Girls\\r   \n",
      "67                      Need help getting out of debt?   \n",
      "69            Spring into the perfect lawn this season   \n",
      "70                          $175.92 For 3 Mo.`` \"1097\"   \n",
      "71                    HouSehold_Breakdowns Happen. 134   \n",
      "72   Unclaimed money update for {{2022.03.01-05.24....   \n",
      "73   𝕊𝕠𝕞𝕖𝕠𝕟𝕖 𝕄𝕒𝕪 𝕙𝕒𝕧𝕖 ℝ𝕦𝕟 𝕒 𝔹𝕒𝕔𝕜𝕘𝕣𝕠𝕦𝕟𝕕-𝕔𝕙𝕖𝕔𝕜 𝕠𝕟 𝕐𝕠𝕦...   \n",
      "74                          welcome-To-CarShield 0618.   \n",
      "75                            BILL No. GGH1644259106OV   \n",
      "76                                   **WORK FROM HOME*   \n",
      "77       WORK AFTER CLASSES OFFER ($500 WEEKLY SALARY)   \n",
      "78   Attention: website.berkeley.edu DMCA Copyright...   \n",
      "79                          Account Suspension Request   \n",
      "80             Re: Professional Fraternity Recruitment   \n",
      "81                         EC Elections - Expectations   \n",
      "82                                Chapter #6 11.3.2021   \n",
      "83                                Interview Scheduling   \n",
      "84   Starfish Message from Mary Beth Holtey - A&S s...   \n",
      "85                     Back at it for spring semester!   \n",
      "86                        South African J-term (2022)    \n",
      "87                       Software Engineering Partners   \n",
      "88                             Rise and Shine tomorrow   \n",
      "89                        Honoring Black History Month   \n",
      "90                                  Halloween Weekend    \n",
      "91                                          30 minutes   \n",
      "92                                               72 hw   \n",
      "93          COVID-19 Drake Update - September 17, 2021   \n",
      "94            Research Interest Form (Action required)   \n",
      "95   Re: Opportunity to participate in research at ...   \n",
      "96                              Goodwin Kirk Vandalism   \n",
      "97                                    Vaccination Card   \n",
      "98                 Re: Wellmark Project Presentations    \n",
      "99   PROGRAMMING LANGUAGES: Assignment 2 Extended D...   \n",
      "100  Spring into Action and unlock a donation to Ha...   \n",
      "101  This is only a test!  A statewide tornado dril...   \n",
      "102  We're updating the Wells Fargo Online Access A...   \n",
      "103                      Opportunities for A&S Majors!   \n",
      "104                                             Return   \n",
      "105               Please help Drake by completing NSSE   \n",
      "106  Life Product Support Analyst Opportunity with ...   \n",
      "107                                     Junior Year!\\r   \n",
      "108                         SASS Newsletter - March 20   \n",
      "109                            Out AM. Maybe out PM.\\r   \n",
      "110  Final funded spaces on mid-April Colombia prog...   \n",
      "111                                Daily Notifications   \n",
      "112                        Graduate Career Opportunity   \n",
      "113                   Commuter Spring 2022 Application   \n",
      "114        Notice of Information Available to Students   \n",
      "115                            Lab Published to Portal   \n",
      "116                              New content available   \n",
      "117                                Your daily briefing   \n",
      "118    Survey Reminder - Please tell us what you think   \n",
      "119                 These deals are disappearing fast.   \n",
      "120                   $59 sale is about to leave town.   \n",
      "121                         Happy World Compliment Day   \n",
      "122                ?? Our NEW Rewards Program is here!   \n",
      "123                This one. Open this one right here.   \n",
      "124  Weekend Travel Plans? Save on Airport Parking!...   \n",
      "125                Breaking Up Doesn't Have To Be Hard   \n",
      "126                                30% off starts now!   \n",
      "127                   It’s your Papadia, enjoy it now!   \n",
      "128              Hooray we've announced Opening Day!\\r   \n",
      "129  The Inc. Founders House is coming back to Austin!   \n",
      "130                The perfect way to make your day \\n   \n",
      "131  You can still gift yourself and your loved ones\\r   \n",
      "132                       2 days ‘til The Large Game\\r   \n",
      "133                           Your Weekend Movie Guide   \n",
      "134             2022’s top ski destinations are in\\n\\n   \n",
      "135  Breaking News: Jan. 6 investigators have found...   \n",
      "136                      Limited time: Up to $50 off\\r   \n",
      "137  Limited time - earn 1,000 bonus miles just for...   \n",
      "138   Winter Event deals are still waiting for you\\r\\n   \n",
      "139          Great Sci-Fi and Fantasy Reading Awaits\\n   \n",
      "140                    Introducing our New Spring Menu   \n",
      "141                  THIS JUST IN: Spring New Arrivals   \n",
      "142            Get half-priced WhirlyBall on Tuesdays!   \n",
      "143          Limited-time offer on the USA Rail Pass\\r   \n",
      "144                                   Spring Break SZN   \n",
      "145                 Track exercise right on your wrist   \n",
      "146                                      This Weekend!   \n",
      "147                         Take a peek at these perks   \n",
      "148                           $20 Off | Don’t Miss Out   \n",
      "149                     You’ve got a $10 reward to use   \n",
      "150           Your March Discounts & Rewards Are Here!   \n",
      "151                                    NEW! Power Pods   \n",
      "152             A rent week curry packed with flavors!   \n",
      "153                         *SALE* 40% Off All Eyewear   \n",
      "154                 These Bags Just Arrived For Spring   \n",
      "155  POTUS Comes to Broadway this April! Get Ticket...   \n",
      "156                       Let’s talk about Bridgerton!   \n",
      "157                    MONDAY MIX: All eyes on Ukraine   \n",
      "158  The DOTD is back on with 15% off a lightning-f...   \n",
      "\n",
      "                                                  Text  Type  \n",
      "0    URGENT BUSINESS ASSISTANCE AND PARTNERSHIP.\\n\\...     1  \n",
      "1    Dear Friend,\\n\\nI am Mr. Ben Suleman a custom ...     1  \n",
      "2    FROM HIS ROYAL MAJESTY (HRM) CROWN RULER OF EL...     1  \n",
      "3    Goodday Dear\\n\\n\\nI know this mail will come t...     1  \n",
      "4    FROM MR. GODWIN AKWESI\\nTEL: +233 208216645\\nF...     1  \n",
      "5    Good day to you.\\n\\nI have a profiling amount ...     1  \n",
      "6    Attention please,\\n \\nGood day and God bless y...     1  \n",
      "7    Hello Dearest One\\n\\nI am writting this letter...     1  \n",
      "8    \\nDearest \\n\\nI am Mrs Comfort Somba from Indi...     1  \n",
      "9    Dear Friend\\n\\nI am Barrister jim douglas a So...     1  \n",
      "10   Kindly accept my apology for sending my mail t...     1  \n",
      "11   Dear Sir/Madam,\\n\\nI am BONGIES ZULU from Cape...     1  \n",
      "12   20 SILVER CRESCENT,\\nEnugu,Nigeria.\\n\\nComplim...     1  \n",
      "13   Dear Friend,\\n\\nMy name is Mr. Chris Swales an...     1  \n",
      "14   Dear Friend,\\n\\nGood day. I decided to contact...     1  \n",
      "15   Dr. Musa Dura\\nFINANCIAL TRUST BANK\\nNO: 17 CO...     1  \n",
      "16   Good day,\\n\\n    I am David Bryan, staff of Kl...     1  \n",
      "17   FROM THE DESK OF MASSAN AHMED\\nBILL AND EXCHAN...     1  \n",
      "18   THE PRESIDENCY\\nDEBT RECONCILIATION COMMITTEE\\...     1  \n",
      "19   Dear Beloved in Christ,\\n \\nPlease bear with m...     1  \n",
      "20   PEACE BE UNTO YOU.\\nI am Faheem Hossam, from A...     1  \n",
      "21   FROM RITA DOINK.\\nINTERNATIONAL PROMOTIONS/PRI...     1  \n",
      "22   DEAR BELOVED, \\n \\nI am Mrs. Christina Holden....     1  \n",
      "23   Hello Friend,\\n\\nPlease excurse me if i have i...     1  \n",
      "24    FROM DAUGTHER  HON,  MR,  KOFFI,  ANAN ,\\n  A...     1  \n",
      "25   FROM THE DESK OF IBRAHIM MUSSA,\\nBILL AND EXCH...     1  \n",
      "26   Dear\\n\\nPlease let this letter not to bring co...     1  \n",
      "27   Season's Greetings!\\n\\n\\n\\nForgive my indignat...     1  \n",
      "28   RE: COLLECTION OF FUND (US$25,000,000.00) UNDE...     1  \n",
      "29   FROM THE DESK OF  DR. JERRY BERRY\\nTHE MANAGER...     1  \n",
      "30   Dear Friend,\\n\\nYour first reaction to this ma...     1  \n",
      "31   Hello my good friend.\\n\\nHow are you today? Ho...     1  \n",
      "32   KEEP CONFIDENTIAL PLEASE.\\nAttn: Sir/Madam.\\nT...     1  \n",
      "33   Dear Friend,\\n\\n\\nWith great pleasure I Mr. Do...     1  \n",
      "34   ATTN  PLS;\\n\\nRecently over the BBC radio and ...     1  \n",
      "35   Dear Friend,\\n\\nI got your e-mail contacts fro...     1  \n",
      "36   Dear Sir, A Very Good day to you I am Mrs Mari...     1  \n",
      "37   AN URGENT BUSINESS PROPOSAL I am pleased to ge...     1  \n",
      "38   My Dear ,\\r\\n\\r\\nGood day.This very confidenti...     1  \n",
      "39   Dear sir, It is with a heart full of hope that...     1  \n",
      "40   PayPal is committed to maintaining a safe envi...     1  \n",
      "41   R0lGODlhYAJpAfPkAAQIAKbK8ICAgABgwACAwCCAwECAwE...     1  \n",
      "42   Dear eBay User ,\\n\\nAfter fraud complaints fro...     1  \n",
      "43   This notice informs you that your Credit Union...     1  \n",
      "44   lobe hank, tap catchon plan, note phew jinx un...     1  \n",
      "45   Dear Sir/Madam,<br>\\r\\n\\t\\t\\t\\t<br>\\r\\n\\t\\t\\t\\...     1  \n",
      "46   We recently reviewed your account, and suspect...     1  \n",
      "47   You have received this email because we have s...     1  \n",
      "48   Dear Bank of America Client :</font></p>\\n    ...     1  \n",
      "49   Dear Amazon.com Member,</b></p>\\n    \\n<p><b>D...     1  \n",
      "50   Commbank\\n     Dear Commonwealth Bank Client\\n...     1  \n",
      "51   Dear customer ,</P>\\n<P dirltr>We have noticed...     1  \n",
      "52   Dear GTE Federal Credit Union Customer</FONT><...     1  \n",
      "53      When 900 years old you reach, look as good,...     1  \n",
      "54   Tired of Swiping?\\r\\nFind Something Real That ...     1  \n",
      "55   COSTCO WHOLESALE\\r\\nLimited Time\\r\\nYou Have (...     1  \n",
      "56   Who would've imagined that something so mind-b...     1  \n",
      "58   MEN: TRY THIS,\\n\\nNEVER TAKE VIAGRA AGAIN\\nALL...     1  \n",
      "59   Thank you for using KCS.\\n\\nWe received the fo...     1  \n",
      "60   Please respond promptly to ensure your complet...     1  \n",
      "61   CONGRATULATION\\n \\n\\n \\nYou’ve Won,\\n \\nPlease...     1  \n",
      "62   Dear,\\nYou have received this letter because y...     1  \n",
      "63   Congratulations! You've been selected to Join ...     1  \n",
      "64   How This \"Root Rejuvenation\" Secret\\r\\nTransfo...     1  \n",
      "65   CONGRATS! You Can Get $50 Walgreens Rewards\\r\\...     1  \n",
      "66   The ONLY site that gets you a girl\\r\\n\\r\\nWARN...     1  \n",
      "67   Take Control of Your Debt Today\\nComplete The ...     1  \n",
      "69   ALL LAWN PLANS\\r\\n50%OFF◇ first application\\r\\...     1  \n",
      "70   $38/Month For Auto insurance Coverage\\r\\n\\r\\n\\...     1  \n",
      "71                   We Welcome_You To Your_AHS Offer,     1  \n",
      "72   (1) Unclaimed Asset Notification For:\\n\\nDATE\\...     1  \n",
      "73   (2) Negative items may have been Added\\r\\nYour...     1  \n",
      "74                       Car Protection You Can Trust.     1  \n",
      "75   Welcome\\r\\nSubscriber;\\r\\n\\r\\nYour Annual memb...     1  \n",
      "76   Dear Student,\\r\\n\\r\\nWe got your contact throu...     1  \n",
      "77   Hello,\\r\\n\\r\\nAre you currently in the US? Her...     1  \n",
      "78   Hello!\\r\\n\\r\\nMy name is Shafaq.\\r\\n\\r\\nYour w...     1  \n",
      "79   Access to  recipient@berkeley.edu(link sends e...     1  \n",
      "80   Hello Professor Manley,\\n\\n \\n\\nI hope you are...     0  \n",
      "81   Hello!\\r\\n\\r\\nYou are receiving this email bec...     0  \n",
      "82   ***This Email is from an EXTERNAL source. Ensu...     0  \n",
      "83   Hey, this is from AKPsi. I would love to set u...     0  \n",
      "84   Dear Student,\\n\\nWe wanted to alert you to som...     0  \n",
      "85   Happy Sunday everyone!\\r\\n\\r\\nWanted to take a...     0  \n",
      "86   Hi all, \\n\\nIf you are receiving this email, t...     0  \n",
      "87   Hello I’m Wes and we’re partners for the upcom...     0  \n",
      "88   Part 2 of the inner core - YFSCAWA :) - series...     0  \n",
      "89   Greetings Members of the Drake Community,\\r\\n\\...     0  \n",
      "90   Good morning Bulldogs,\\r\\n \\r\\nAs we prepare f...     0  \n",
      "91   I’m running about 30 minutes late but I will b...     0  \n",
      "92   Hi Everyone,\\r\\n\\r\\nI put your graded homework...     0  \n",
      "93   The Drake University Emergency Operations Cent...     0  \n",
      "94   Hello!\\r\\n\\r\\nIf you’re getting this email, it...     0  \n",
      "95   Hi everyone, \\r\\n\\r\\nJust a friendly reminder ...     0  \n",
      "96   Hello GK Residents,\\r\\n \\r\\nHappy end of the s...     0  \n",
      "97   Good afternoon,\\n\\nI understand from the COVID...     0  \n",
      "98   Hi,\\n\\nYou’ll be presenting to the class, the ...     0  \n",
      "99   Dear Students,\\nI decided to push back the dea...     0  \n",
      "100  Sign up to volunteer and unlock a bonus donati...     0  \n",
      "101  This is only a Test! A statewide tornado drill...     0  \n",
      "102  We're updating the Online Access Agreement\\n\\n...     0  \n",
      "103  Argenta will be tabling in the skywalk between...     0  \n",
      "104  Thank you for your message.\\n\\nWe're very sorr...     0  \n",
      "105  Dear\\n\\nAt Drake University we want our studen...     0  \n",
      "106  Hi,\\n \\nHappy Friday! You previously applied t...     0  \n",
      "107  I hope you’ve had a great summer. I’m just get...     0  \n",
      "108  Fall 2022 Registration\\nRegistration Date - Be...     0  \n",
      "109  Out for the rest of the day. :-(\\r\\n\\r\\nJames\\...     0  \n",
      "110  Hello     \\n\\nI hope all is going well with yo...     0  \n",
      "111  Your updates\\nMessages\\nNew message from Timot...     0  \n",
      "112  Good Afternoon,\\n\\nI hope you have a safe and ...     0  \n",
      "113  Dear,\\n\\nOur records indicate that you have ei...     0  \n",
      "114  Email Notice to Students\\nSubject:  Notice of ...     0  \n",
      "115  Your lab results are now available on our pati...     0  \n",
      "116  Hello,\\n\\nOur records show that you may be due...     0  \n",
      "117  Hi,\\nHope you had time to recharge.\\nBriefing ...     0  \n",
      "118  ***This Email is from an EXTERNAL source. Ensu...     0  \n",
      "119  Grab them before they’re all claimed out. \\n\\n...     0  \n",
      "120  Are you?\\n\\nView in web browser | View our mob...     0  \n",
      "121  Can't see this email? View in Your Browser\\n\\n...     0  \n",
      "122  Reward Yourself\\nJoin our new Rewards Program ...     0  \n",
      "123  Invest in yourself by saving more. \\n \\nYour f...     0  \n",
      "124  SpotHero        Find Parking\\nSave on Your Rid...     0  \n",
      "125  Time To Break Up With Your Current Tech\\nWheth...     0  \n",
      "126  \\r\\nMalwarebytes\\r\\nHaving trouble viewing thi...     0  \n",
      "127  Papadias for everyone!\\r\\nEnjoy a Parmesan Cru...     0  \n",
      "128  Worlds of Fun\\nManage My Email Preferences\\nWo...     0  \n",
      "129  \\r\\nInc. Founders House | March 11-14 • Austin...     0  \n",
      "130  \\nNow through 2/22, enjoy $3 Cappuccinos and L...     0  \n",
      "131  \\nYou can still give sleep’s lovely gift to yo...     0  \n",
      "132  Tune in to the Quartertime Show. \\nYeah, it's ...     0  \n",
      "133  FANDANGO\\t\\t\\t\\tMY ACCOUNT\\r\\n\\r\\n\\t375 POINTS...     0  \n",
      "134  \\nYour fellow travelers have spoken ‌ ‌ ‌ ‌ ‌ ...     0  \n",
      "135  View in browser|nytimes.com\\r\\n\\r\\nFebruary 10...     0  \n",
      "136  View email in your browser.\\n23andMe\\nOUR WAY ...     0  \n",
      "137  Shop online and in-store by February 16 to ear...     0  \n",
      "138  webview\\n\\nThe Winter Event | Final days to sa...     0  \n",
      "139  Goodreads\\nPlanetary Pages\\nInterview Mandel\\n...     0  \n",
      "140  VIEW MENU        ORDER ONLINE\\nSAY HELLO TO TH...     0  \n",
      "141  Can't see this email? View in Your Browser\\r\\n...     0  \n",
      "142  EAT | DRINK | GAME ON!\\n \\n \\n \\n \\n \\n  \\n \\n...     0  \n",
      "143  Explore the country with the USA Rail Pass.\\nV...     0  \n",
      "144  Welcome to Miami\\nWELCOME TO MIAMI\\nGot 20 buc...     0  \n",
      "145  Discover workout stats, choose exercise modes ...     0  \n",
      "146  Trillium_Yoga_Logo_Landscape_Web.jpg\\n\\nCheck ...     0  \n",
      "147  eyebuydirect\\nEYEGLASSES SUNGLASSES PREMIUM BR...     0  \n",
      "148  Postmates\\n\\n \\nLet Postmates Make Your Life E...     0  \n",
      "149  $10 off when you checkout with PayPal.\\nWe not...     0  \n",
      "150  AAA SAVINGS FOR YOUR HOME\\n\\nWhether you’re lo...     0  \n",
      "151  CASELY\\nSay hello to the Power Pod\\nPower up o...     0  \n",
      "152  Anyone can cook - with fresh news from Kitchen...     0  \n",
      "153  Protect your eyes from the sun and the planet ...     0  \n",
      "154  Bags so perfect—you'll never want to be withou...     0  \n",
      "155  INAUGURAL BROADWAY PERFORMANCE APRIL 14\\r\\nA N...     0  \n",
      "156  GET THE BEST OF EVERYTHING IN THE APP\\n\\nSTARB...     0  \n",
      "157  Hi!\\n \\nSpring forward with our newest noPac c...     0  \n",
      "158  Hi,  | PLAYER MEMBER | 0 Points\\n\\nEarn And Sa...     0  \n"
     ]
    }
   ],
   "source": [
    "import sklearn.preprocessing as pre\n",
    "\n",
    "class_mapping = {'Fraud': 1, 'Phishing': 1, 'Commercial Spam': 0, 'False Positives ': 0}\n",
    "df['Type'] = df['Type'].map(class_mapping)\n",
    "df.head()\n",
    "print(df)"
   ]
  },
  {
   "cell_type": "code",
   "execution_count": 370,
   "metadata": {},
   "outputs": [
    {
     "data": {
      "text/plain": [
       "Type\n",
       "0    79\n",
       "1    78\n",
       "Name: count, dtype: int64"
      ]
     },
     "execution_count": 370,
     "metadata": {},
     "output_type": "execute_result"
    }
   ],
   "source": [
    "df['Type'].value_counts()"
   ]
  },
  {
   "cell_type": "markdown",
   "metadata": {},
   "source": [
    "Text Preprocessing"
   ]
  },
  {
   "cell_type": "code",
   "execution_count": 371,
   "metadata": {},
   "outputs": [],
   "source": [
    "import nltk"
   ]
  },
  {
   "cell_type": "code",
   "execution_count": 372,
   "metadata": {},
   "outputs": [],
   "source": [
    "import string\n",
    "from nltk.corpus import stopwords\n",
    "\n",
    "def process_text(text):\n",
    "    no_punc = [char for char in text if char not in string.punctuation]\n",
    "    no_punc = ''.join(no_punc)\n",
    "    \n",
    "    stopw= set(stopwords.words('english'))\n",
    "    return ' '.join([word for word in no_punc.split() if word.lower() not in stopw ])\n",
    "\n"
   ]
  },
  {
   "cell_type": "code",
   "execution_count": 373,
   "metadata": {},
   "outputs": [
    {
     "data": {
      "text/html": [
       "<div>\n",
       "<style scoped>\n",
       "    .dataframe tbody tr th:only-of-type {\n",
       "        vertical-align: middle;\n",
       "    }\n",
       "\n",
       "    .dataframe tbody tr th {\n",
       "        vertical-align: top;\n",
       "    }\n",
       "\n",
       "    .dataframe thead th {\n",
       "        text-align: right;\n",
       "    }\n",
       "</style>\n",
       "<table border=\"1\" class=\"dataframe\">\n",
       "  <thead>\n",
       "    <tr style=\"text-align: right;\">\n",
       "      <th></th>\n",
       "      <th>Subject</th>\n",
       "      <th>Text</th>\n",
       "      <th>Type</th>\n",
       "    </tr>\n",
       "  </thead>\n",
       "  <tbody>\n",
       "    <tr>\n",
       "      <th>0</th>\n",
       "      <td>URGENT BUSINESS ASSISTANCE PARTNERSHIP</td>\n",
       "      <td>URGENT BUSINESS ASSISTANCE PARTNERSHIP DEAR FR...</td>\n",
       "      <td>1</td>\n",
       "    </tr>\n",
       "    <tr>\n",
       "      <th>1</th>\n",
       "      <td>URGENT ASSISTANCE RELATIONSHIP P</td>\n",
       "      <td>Dear Friend Mr Ben Suleman custom officer work...</td>\n",
       "      <td>1</td>\n",
       "    </tr>\n",
       "    <tr>\n",
       "      <th>2</th>\n",
       "      <td>GOOD DAY</td>\n",
       "      <td>ROYAL MAJESTY HRM CROWN RULER ELEME KINGDOM CH...</td>\n",
       "      <td>1</td>\n",
       "    </tr>\n",
       "    <tr>\n",
       "      <th>3</th>\n",
       "      <td>MrsJohnson</td>\n",
       "      <td>Goodday Dear know mail come surprise neverthel...</td>\n",
       "      <td>1</td>\n",
       "    </tr>\n",
       "    <tr>\n",
       "      <th>4</th>\n",
       "      <td>CoOperation</td>\n",
       "      <td>MR GODWIN AKWESI TEL 233 208216645 FAX 233 276...</td>\n",
       "      <td>1</td>\n",
       "    </tr>\n",
       "  </tbody>\n",
       "</table>\n",
       "</div>"
      ],
      "text/plain": [
       "                                  Subject  \\\n",
       "0  URGENT BUSINESS ASSISTANCE PARTNERSHIP   \n",
       "1        URGENT ASSISTANCE RELATIONSHIP P   \n",
       "2                                GOOD DAY   \n",
       "3                              MrsJohnson   \n",
       "4                             CoOperation   \n",
       "\n",
       "                                                Text  Type  \n",
       "0  URGENT BUSINESS ASSISTANCE PARTNERSHIP DEAR FR...     1  \n",
       "1  Dear Friend Mr Ben Suleman custom officer work...     1  \n",
       "2  ROYAL MAJESTY HRM CROWN RULER ELEME KINGDOM CH...     1  \n",
       "3  Goodday Dear know mail come surprise neverthel...     1  \n",
       "4  MR GODWIN AKWESI TEL 233 208216645 FAX 233 276...     1  "
      ]
     },
     "execution_count": 373,
     "metadata": {},
     "output_type": "execute_result"
    }
   ],
   "source": [
    "df['Text']=df['Text'].apply(process_text)\n",
    "df['Subject']=df['Subject'].apply(process_text)\n",
    "df.head()\n"
   ]
  },
  {
   "cell_type": "code",
   "execution_count": 374,
   "metadata": {},
   "outputs": [
    {
     "data": {
      "text/html": [
       "<div>\n",
       "<style scoped>\n",
       "    .dataframe tbody tr th:only-of-type {\n",
       "        vertical-align: middle;\n",
       "    }\n",
       "\n",
       "    .dataframe tbody tr th {\n",
       "        vertical-align: top;\n",
       "    }\n",
       "\n",
       "    .dataframe thead th {\n",
       "        text-align: right;\n",
       "    }\n",
       "</style>\n",
       "<table border=\"1\" class=\"dataframe\">\n",
       "  <thead>\n",
       "    <tr style=\"text-align: right;\">\n",
       "      <th></th>\n",
       "      <th>Subject</th>\n",
       "      <th>Text</th>\n",
       "      <th>Type</th>\n",
       "    </tr>\n",
       "  </thead>\n",
       "  <tbody>\n",
       "    <tr>\n",
       "      <th>0</th>\n",
       "      <td>urgent business assistance partnership</td>\n",
       "      <td>urgent business assistance partnership dear fr...</td>\n",
       "      <td>1</td>\n",
       "    </tr>\n",
       "    <tr>\n",
       "      <th>1</th>\n",
       "      <td>urgent assistance relationship p</td>\n",
       "      <td>dear friend mr ben suleman custom officer work...</td>\n",
       "      <td>1</td>\n",
       "    </tr>\n",
       "    <tr>\n",
       "      <th>2</th>\n",
       "      <td>good day</td>\n",
       "      <td>royal majesty hrm crown ruler eleme kingdom ch...</td>\n",
       "      <td>1</td>\n",
       "    </tr>\n",
       "    <tr>\n",
       "      <th>3</th>\n",
       "      <td>mrsjohnson</td>\n",
       "      <td>goodday dear know mail come surprise neverthel...</td>\n",
       "      <td>1</td>\n",
       "    </tr>\n",
       "    <tr>\n",
       "      <th>4</th>\n",
       "      <td>cooperation</td>\n",
       "      <td>mr godwin akwesi tel 233 208216645 fax 233 276...</td>\n",
       "      <td>1</td>\n",
       "    </tr>\n",
       "  </tbody>\n",
       "</table>\n",
       "</div>"
      ],
      "text/plain": [
       "                                  Subject  \\\n",
       "0  urgent business assistance partnership   \n",
       "1        urgent assistance relationship p   \n",
       "2                                good day   \n",
       "3                              mrsjohnson   \n",
       "4                             cooperation   \n",
       "\n",
       "                                                Text  Type  \n",
       "0  urgent business assistance partnership dear fr...     1  \n",
       "1  dear friend mr ben suleman custom officer work...     1  \n",
       "2  royal majesty hrm crown ruler eleme kingdom ch...     1  \n",
       "3  goodday dear know mail come surprise neverthel...     1  \n",
       "4  mr godwin akwesi tel 233 208216645 fax 233 276...     1  "
      ]
     },
     "execution_count": 374,
     "metadata": {},
     "output_type": "execute_result"
    }
   ],
   "source": [
    "from nltk.stem import PorterStemmer\n",
    "stemmer = PorterStemmer()\n",
    "\n",
    "def stemming (text):\n",
    "    return ''.join([stemmer.stem(word) for word in text])\n",
    "\n",
    "df['Text']=df['Text'].apply(stemming)\n",
    "df['Subject']=df['Subject'].apply(stemming)\n",
    "df.head()"
   ]
  },
  {
   "cell_type": "code",
   "execution_count": 375,
   "metadata": {},
   "outputs": [],
   "source": [
    "from sklearn.feature_extraction.text import CountVectorizer\n",
    "from sklearn.pipeline import FeatureUnion\n",
    "\n",
    "df['combined_text'] = df['Subject'] + ' ' + df['Text']\n",
    "\n",
    "# Initialize CountVectorizer for each text feature\n",
    "count_vectorizer = CountVectorizer()\n",
    "\n",
    "text_vectorized = count_vectorizer.fit_transform(df['combined_text'])\n",
    "\n",
    "# print(text_vectorized.toarray().shape)"
   ]
  },
  {
   "cell_type": "code",
   "execution_count": 376,
   "metadata": {},
   "outputs": [],
   "source": [
    "from sklearn.model_selection import train_test_split\n",
    "X_train,X_test,y_train,y_test = train_test_split(text_vectorized,df['Type'],test_size=0.20)"
   ]
  },
  {
   "cell_type": "code",
   "execution_count": 377,
   "metadata": {},
   "outputs": [
    {
     "name": "stdout",
     "output_type": "stream",
     "text": [
      "(125, 7370)\n",
      "(32, 7370)\n",
      "(125,)\n",
      "(32,)\n"
     ]
    }
   ],
   "source": [
    "print(X_train.shape)\n",
    "print(X_test.shape)\n",
    "print(y_train.shape)\n",
    "print(y_test.shape)\n"
   ]
  },
  {
   "cell_type": "code",
   "execution_count": 378,
   "metadata": {},
   "outputs": [
    {
     "data": {
      "text/html": [
       "<style>#sk-container-id-13 {color: black;}#sk-container-id-13 pre{padding: 0;}#sk-container-id-13 div.sk-toggleable {background-color: white;}#sk-container-id-13 label.sk-toggleable__label {cursor: pointer;display: block;width: 100%;margin-bottom: 0;padding: 0.3em;box-sizing: border-box;text-align: center;}#sk-container-id-13 label.sk-toggleable__label-arrow:before {content: \"▸\";float: left;margin-right: 0.25em;color: #696969;}#sk-container-id-13 label.sk-toggleable__label-arrow:hover:before {color: black;}#sk-container-id-13 div.sk-estimator:hover label.sk-toggleable__label-arrow:before {color: black;}#sk-container-id-13 div.sk-toggleable__content {max-height: 0;max-width: 0;overflow: hidden;text-align: left;background-color: #f0f8ff;}#sk-container-id-13 div.sk-toggleable__content pre {margin: 0.2em;color: black;border-radius: 0.25em;background-color: #f0f8ff;}#sk-container-id-13 input.sk-toggleable__control:checked~div.sk-toggleable__content {max-height: 200px;max-width: 100%;overflow: auto;}#sk-container-id-13 input.sk-toggleable__control:checked~label.sk-toggleable__label-arrow:before {content: \"▾\";}#sk-container-id-13 div.sk-estimator input.sk-toggleable__control:checked~label.sk-toggleable__label {background-color: #d4ebff;}#sk-container-id-13 div.sk-label input.sk-toggleable__control:checked~label.sk-toggleable__label {background-color: #d4ebff;}#sk-container-id-13 input.sk-hidden--visually {border: 0;clip: rect(1px 1px 1px 1px);clip: rect(1px, 1px, 1px, 1px);height: 1px;margin: -1px;overflow: hidden;padding: 0;position: absolute;width: 1px;}#sk-container-id-13 div.sk-estimator {font-family: monospace;background-color: #f0f8ff;border: 1px dotted black;border-radius: 0.25em;box-sizing: border-box;margin-bottom: 0.5em;}#sk-container-id-13 div.sk-estimator:hover {background-color: #d4ebff;}#sk-container-id-13 div.sk-parallel-item::after {content: \"\";width: 100%;border-bottom: 1px solid gray;flex-grow: 1;}#sk-container-id-13 div.sk-label:hover label.sk-toggleable__label {background-color: #d4ebff;}#sk-container-id-13 div.sk-serial::before {content: \"\";position: absolute;border-left: 1px solid gray;box-sizing: border-box;top: 0;bottom: 0;left: 50%;z-index: 0;}#sk-container-id-13 div.sk-serial {display: flex;flex-direction: column;align-items: center;background-color: white;padding-right: 0.2em;padding-left: 0.2em;position: relative;}#sk-container-id-13 div.sk-item {position: relative;z-index: 1;}#sk-container-id-13 div.sk-parallel {display: flex;align-items: stretch;justify-content: center;background-color: white;position: relative;}#sk-container-id-13 div.sk-item::before, #sk-container-id-13 div.sk-parallel-item::before {content: \"\";position: absolute;border-left: 1px solid gray;box-sizing: border-box;top: 0;bottom: 0;left: 50%;z-index: -1;}#sk-container-id-13 div.sk-parallel-item {display: flex;flex-direction: column;z-index: 1;position: relative;background-color: white;}#sk-container-id-13 div.sk-parallel-item:first-child::after {align-self: flex-end;width: 50%;}#sk-container-id-13 div.sk-parallel-item:last-child::after {align-self: flex-start;width: 50%;}#sk-container-id-13 div.sk-parallel-item:only-child::after {width: 0;}#sk-container-id-13 div.sk-dashed-wrapped {border: 1px dashed gray;margin: 0 0.4em 0.5em 0.4em;box-sizing: border-box;padding-bottom: 0.4em;background-color: white;}#sk-container-id-13 div.sk-label label {font-family: monospace;font-weight: bold;display: inline-block;line-height: 1.2em;}#sk-container-id-13 div.sk-label-container {text-align: center;}#sk-container-id-13 div.sk-container {/* jupyter's `normalize.less` sets `[hidden] { display: none; }` but bootstrap.min.css set `[hidden] { display: none !important; }` so we also need the `!important` here to be able to override the default hidden behavior on the sphinx rendered scikit-learn.org. See: https://github.com/scikit-learn/scikit-learn/issues/21755 */display: inline-block !important;position: relative;}#sk-container-id-13 div.sk-text-repr-fallback {display: none;}</style><div id=\"sk-container-id-13\" class=\"sk-top-container\"><div class=\"sk-text-repr-fallback\"><pre>MultinomialNB()</pre><b>In a Jupyter environment, please rerun this cell to show the HTML representation or trust the notebook. <br />On GitHub, the HTML representation is unable to render, please try loading this page with nbviewer.org.</b></div><div class=\"sk-container\" hidden><div class=\"sk-item\"><div class=\"sk-estimator sk-toggleable\"><input class=\"sk-toggleable__control sk-hidden--visually\" id=\"sk-estimator-id-13\" type=\"checkbox\" checked><label for=\"sk-estimator-id-13\" class=\"sk-toggleable__label sk-toggleable__label-arrow\">MultinomialNB</label><div class=\"sk-toggleable__content\"><pre>MultinomialNB()</pre></div></div></div></div></div>"
      ],
      "text/plain": [
       "MultinomialNB()"
      ]
     },
     "execution_count": 378,
     "metadata": {},
     "output_type": "execute_result"
    }
   ],
   "source": [
    "from sklearn.svm import SVC\n",
    "from sklearn.naive_bayes import MultinomialNB,BernoulliNB \n",
    "# svm = SVC()\n",
    "svm= MultinomialNB()\n",
    "# svm=BernoulliNB()\n",
    "svm.fit(X_train,y_train)"
   ]
  },
  {
   "cell_type": "code",
   "execution_count": 379,
   "metadata": {},
   "outputs": [],
   "source": [
    "y_pred = svm.predict(X_test)"
   ]
  },
  {
   "cell_type": "code",
   "execution_count": 384,
   "metadata": {},
   "outputs": [
    {
     "name": "stdout",
     "output_type": "stream",
     "text": [
      "90.625\n",
      "              precision    recall  f1-score   support\n",
      "\n",
      "           0       0.82      1.00      0.90        14\n",
      "           1       1.00      0.83      0.91        18\n",
      "\n",
      "    accuracy                           0.91        32\n",
      "   macro avg       0.91      0.92      0.91        32\n",
      "weighted avg       0.92      0.91      0.91        32\n",
      "\n"
     ]
    }
   ],
   "source": [
    "from sklearn.metrics import classification_report,accuracy_score\n",
    "\n",
    "c\n"
   ]
  },
  {
   "cell_type": "markdown",
   "metadata": {},
   "source": [
    "now we will train it some new data"
   ]
  },
  {
   "cell_type": "code",
   "execution_count": 390,
   "metadata": {},
   "outputs": [
    {
     "data": {
      "text/html": [
       "<div>\n",
       "<style scoped>\n",
       "    .dataframe tbody tr th:only-of-type {\n",
       "        vertical-align: middle;\n",
       "    }\n",
       "\n",
       "    .dataframe tbody tr th {\n",
       "        vertical-align: top;\n",
       "    }\n",
       "\n",
       "    .dataframe thead th {\n",
       "        text-align: right;\n",
       "    }\n",
       "</style>\n",
       "<table border=\"1\" class=\"dataframe\">\n",
       "  <thead>\n",
       "    <tr style=\"text-align: right;\">\n",
       "      <th></th>\n",
       "      <th>sender</th>\n",
       "      <th>receiver</th>\n",
       "      <th>date</th>\n",
       "      <th>subject</th>\n",
       "      <th>body</th>\n",
       "      <th>label</th>\n",
       "      <th>urls</th>\n",
       "    </tr>\n",
       "  </thead>\n",
       "  <tbody>\n",
       "    <tr>\n",
       "      <th>0</th>\n",
       "      <td>\"Hu, Sylvia\" &lt;Sylvia.Hu@ENRON.com&gt;</td>\n",
       "      <td>\"Acevedo, Felecia\" &lt;Felecia.Acevedo@ENRON.com&gt;...</td>\n",
       "      <td>Fri, 29 Jun 2001 08:36:09 -0500</td>\n",
       "      <td>FW: June 29 -- BNA, Inc. Daily Labor Report</td>\n",
       "      <td>User ID:  enrondlr PW:        bnaweb22  -----O...</td>\n",
       "      <td>0</td>\n",
       "      <td>1</td>\n",
       "    </tr>\n",
       "    <tr>\n",
       "      <th>1</th>\n",
       "      <td>\"Webb, Jay\" &lt;Jay.Webb@ENRON.com&gt;</td>\n",
       "      <td>\"Lambie, Chris\" &lt;Chris.Lambie@ENRON.com&gt;</td>\n",
       "      <td>Fri, 29 Jun 2001 09:37:04 -0500</td>\n",
       "      <td>NGX failover plan.</td>\n",
       "      <td>\\nHi Chris,  \\n\\nTonight we are rolling out a ...</td>\n",
       "      <td>0</td>\n",
       "      <td>0</td>\n",
       "    </tr>\n",
       "    <tr>\n",
       "      <th>2</th>\n",
       "      <td>\"Symms, Mark\" &lt;Mark.Symms@ENRON.com&gt;</td>\n",
       "      <td>\"Thomas, Paul D.\" &lt;Paul.D.Thomas@ENRON.com&gt;</td>\n",
       "      <td>Fri, 29 Jun 2001 08:39:30 -0500</td>\n",
       "      <td>RE: Intranet Site</td>\n",
       "      <td>Rika r these new?\\n\\n -----Original Message---...</td>\n",
       "      <td>0</td>\n",
       "      <td>1</td>\n",
       "    </tr>\n",
       "    <tr>\n",
       "      <th>3</th>\n",
       "      <td>\"Thorne, Judy\" &lt;Judy.Thorne@ENRON.com&gt;</td>\n",
       "      <td>\"Grass, John\" &lt;John.Grass@ENRON.com&gt;, \"Nemec, ...</td>\n",
       "      <td>Fri, 29 Jun 2001 10:35:17 -0500</td>\n",
       "      <td>FW: ENA Upstream Company information</td>\n",
       "      <td>John/Gerald, We are currently trading under GT...</td>\n",
       "      <td>0</td>\n",
       "      <td>0</td>\n",
       "    </tr>\n",
       "    <tr>\n",
       "      <th>4</th>\n",
       "      <td>\"Williams, Jason R (Credit)\" &lt;Jason.R.Williams...</td>\n",
       "      <td>\"Nemec, Gerald\" &lt;Gerald.Nemec@ENRON.com&gt;, \"Dic...</td>\n",
       "      <td>Fri, 29 Jun 2001 10:40:02 -0500</td>\n",
       "      <td>New Master Physical</td>\n",
       "      <td>Gerald and Stacy -\\n\\nAttached is a worksheet ...</td>\n",
       "      <td>0</td>\n",
       "      <td>0</td>\n",
       "    </tr>\n",
       "  </tbody>\n",
       "</table>\n",
       "</div>"
      ],
      "text/plain": [
       "                                              sender  \\\n",
       "0                 \"Hu, Sylvia\" <Sylvia.Hu@ENRON.com>   \n",
       "1                   \"Webb, Jay\" <Jay.Webb@ENRON.com>   \n",
       "2               \"Symms, Mark\" <Mark.Symms@ENRON.com>   \n",
       "3             \"Thorne, Judy\" <Judy.Thorne@ENRON.com>   \n",
       "4  \"Williams, Jason R (Credit)\" <Jason.R.Williams...   \n",
       "\n",
       "                                            receiver  \\\n",
       "0  \"Acevedo, Felecia\" <Felecia.Acevedo@ENRON.com>...   \n",
       "1           \"Lambie, Chris\" <Chris.Lambie@ENRON.com>   \n",
       "2        \"Thomas, Paul D.\" <Paul.D.Thomas@ENRON.com>   \n",
       "3  \"Grass, John\" <John.Grass@ENRON.com>, \"Nemec, ...   \n",
       "4  \"Nemec, Gerald\" <Gerald.Nemec@ENRON.com>, \"Dic...   \n",
       "\n",
       "                              date  \\\n",
       "0  Fri, 29 Jun 2001 08:36:09 -0500   \n",
       "1  Fri, 29 Jun 2001 09:37:04 -0500   \n",
       "2  Fri, 29 Jun 2001 08:39:30 -0500   \n",
       "3  Fri, 29 Jun 2001 10:35:17 -0500   \n",
       "4  Fri, 29 Jun 2001 10:40:02 -0500   \n",
       "\n",
       "                                       subject  \\\n",
       "0  FW: June 29 -- BNA, Inc. Daily Labor Report   \n",
       "1                           NGX failover plan.   \n",
       "2                            RE: Intranet Site   \n",
       "3         FW: ENA Upstream Company information   \n",
       "4                          New Master Physical   \n",
       "\n",
       "                                                body  label  urls  \n",
       "0  User ID:  enrondlr PW:        bnaweb22  -----O...      0     1  \n",
       "1  \\nHi Chris,  \\n\\nTonight we are rolling out a ...      0     0  \n",
       "2  Rika r these new?\\n\\n -----Original Message---...      0     1  \n",
       "3  John/Gerald, We are currently trading under GT...      0     0  \n",
       "4  Gerald and Stacy -\\n\\nAttached is a worksheet ...      0     0  "
      ]
     },
     "execution_count": 390,
     "metadata": {},
     "output_type": "execute_result"
    }
   ],
   "source": [
    "df= pd.read_csv('mail_phishing_2.csv')\n",
    "# print(df)\n",
    "df.head()"
   ]
  },
  {
   "cell_type": "code",
   "execution_count": 391,
   "metadata": {},
   "outputs": [],
   "source": [
    "df=df[['subject','body','label']]"
   ]
  },
  {
   "cell_type": "code",
   "execution_count": 392,
   "metadata": {},
   "outputs": [
    {
     "name": "stdout",
     "output_type": "stream",
     "text": [
      "(6331, 3)\n"
     ]
    },
    {
     "data": {
      "text/plain": [
       "subject    106\n",
       "body         0\n",
       "label        0\n",
       "dtype: int64"
      ]
     },
     "execution_count": 392,
     "metadata": {},
     "output_type": "execute_result"
    }
   ],
   "source": [
    "print(df.shape)\n",
    "df.isna().sum()"
   ]
  },
  {
   "cell_type": "code",
   "execution_count": 393,
   "metadata": {},
   "outputs": [
    {
     "data": {
      "text/plain": [
       "subject    0\n",
       "body       0\n",
       "label      0\n",
       "dtype: int64"
      ]
     },
     "execution_count": 393,
     "metadata": {},
     "output_type": "execute_result"
    }
   ],
   "source": [
    "# we will clean the data of the na values\n",
    "df.dropna(inplace=True)\n",
    "df.isna().sum()"
   ]
  },
  {
   "cell_type": "code",
   "execution_count": 396,
   "metadata": {},
   "outputs": [
    {
     "name": "stdout",
     "output_type": "stream",
     "text": [
      "6225\n"
     ]
    },
    {
     "data": {
      "text/plain": [
       "label\n",
       "1    3293\n",
       "0    2932\n",
       "Name: count, dtype: int64"
      ]
     },
     "execution_count": 396,
     "metadata": {},
     "output_type": "execute_result"
    }
   ],
   "source": [
    "print(len(df['label']))\n",
    "df['label'].value_counts()"
   ]
  },
  {
   "cell_type": "code",
   "execution_count": 397,
   "metadata": {},
   "outputs": [
    {
     "data": {
      "text/html": [
       "<div>\n",
       "<style scoped>\n",
       "    .dataframe tbody tr th:only-of-type {\n",
       "        vertical-align: middle;\n",
       "    }\n",
       "\n",
       "    .dataframe tbody tr th {\n",
       "        vertical-align: top;\n",
       "    }\n",
       "\n",
       "    .dataframe thead th {\n",
       "        text-align: right;\n",
       "    }\n",
       "</style>\n",
       "<table border=\"1\" class=\"dataframe\">\n",
       "  <thead>\n",
       "    <tr style=\"text-align: right;\">\n",
       "      <th></th>\n",
       "      <th>subject</th>\n",
       "      <th>body</th>\n",
       "      <th>label</th>\n",
       "    </tr>\n",
       "  </thead>\n",
       "  <tbody>\n",
       "    <tr>\n",
       "      <th>0</th>\n",
       "      <td>FW June 29 BNA Inc Daily Labor Report</td>\n",
       "      <td>User ID enrondlr PW bnaweb22 Original Message ...</td>\n",
       "      <td>0</td>\n",
       "    </tr>\n",
       "    <tr>\n",
       "      <th>1</th>\n",
       "      <td>NGX failover plan</td>\n",
       "      <td>Hi Chris Tonight rolling new report Currently ...</td>\n",
       "      <td>0</td>\n",
       "    </tr>\n",
       "    <tr>\n",
       "      <th>2</th>\n",
       "      <td>Intranet Site</td>\n",
       "      <td>Rika r new Original Message Thomas Paul Sent F...</td>\n",
       "      <td>0</td>\n",
       "    </tr>\n",
       "    <tr>\n",
       "      <th>3</th>\n",
       "      <td>FW ENA Upstream Company information</td>\n",
       "      <td>JohnGerald currently trading GTC Spot contract...</td>\n",
       "      <td>0</td>\n",
       "    </tr>\n",
       "    <tr>\n",
       "      <th>4</th>\n",
       "      <td>New Master Physical</td>\n",
       "      <td>Gerald Stacy Attached worksheet new master phy...</td>\n",
       "      <td>0</td>\n",
       "    </tr>\n",
       "  </tbody>\n",
       "</table>\n",
       "</div>"
      ],
      "text/plain": [
       "                                 subject  \\\n",
       "0  FW June 29 BNA Inc Daily Labor Report   \n",
       "1                      NGX failover plan   \n",
       "2                          Intranet Site   \n",
       "3    FW ENA Upstream Company information   \n",
       "4                    New Master Physical   \n",
       "\n",
       "                                                body  label  \n",
       "0  User ID enrondlr PW bnaweb22 Original Message ...      0  \n",
       "1  Hi Chris Tonight rolling new report Currently ...      0  \n",
       "2  Rika r new Original Message Thomas Paul Sent F...      0  \n",
       "3  JohnGerald currently trading GTC Spot contract...      0  \n",
       "4  Gerald Stacy Attached worksheet new master phy...      0  "
      ]
     },
     "execution_count": 397,
     "metadata": {},
     "output_type": "execute_result"
    }
   ],
   "source": [
    "df['body']=df['body'].apply(process_text)\n",
    "df['subject']=df['subject'].apply(process_text)\n",
    "df.head()"
   ]
  },
  {
   "cell_type": "code",
   "execution_count": 398,
   "metadata": {},
   "outputs": [
    {
     "data": {
      "text/html": [
       "<div>\n",
       "<style scoped>\n",
       "    .dataframe tbody tr th:only-of-type {\n",
       "        vertical-align: middle;\n",
       "    }\n",
       "\n",
       "    .dataframe tbody tr th {\n",
       "        vertical-align: top;\n",
       "    }\n",
       "\n",
       "    .dataframe thead th {\n",
       "        text-align: right;\n",
       "    }\n",
       "</style>\n",
       "<table border=\"1\" class=\"dataframe\">\n",
       "  <thead>\n",
       "    <tr style=\"text-align: right;\">\n",
       "      <th></th>\n",
       "      <th>subject</th>\n",
       "      <th>body</th>\n",
       "      <th>label</th>\n",
       "    </tr>\n",
       "  </thead>\n",
       "  <tbody>\n",
       "    <tr>\n",
       "      <th>0</th>\n",
       "      <td>fw june 29 bna inc daily labor report</td>\n",
       "      <td>user id enrondlr pw bnaweb22 original message ...</td>\n",
       "      <td>0</td>\n",
       "    </tr>\n",
       "    <tr>\n",
       "      <th>1</th>\n",
       "      <td>ngx failover plan</td>\n",
       "      <td>hi chris tonight rolling new report currently ...</td>\n",
       "      <td>0</td>\n",
       "    </tr>\n",
       "    <tr>\n",
       "      <th>2</th>\n",
       "      <td>intranet site</td>\n",
       "      <td>rika r new original message thomas paul sent f...</td>\n",
       "      <td>0</td>\n",
       "    </tr>\n",
       "    <tr>\n",
       "      <th>3</th>\n",
       "      <td>fw ena upstream company information</td>\n",
       "      <td>johngerald currently trading gtc spot contract...</td>\n",
       "      <td>0</td>\n",
       "    </tr>\n",
       "    <tr>\n",
       "      <th>4</th>\n",
       "      <td>new master physical</td>\n",
       "      <td>gerald stacy attached worksheet new master phy...</td>\n",
       "      <td>0</td>\n",
       "    </tr>\n",
       "  </tbody>\n",
       "</table>\n",
       "</div>"
      ],
      "text/plain": [
       "                                 subject  \\\n",
       "0  fw june 29 bna inc daily labor report   \n",
       "1                      ngx failover plan   \n",
       "2                          intranet site   \n",
       "3    fw ena upstream company information   \n",
       "4                    new master physical   \n",
       "\n",
       "                                                body  label  \n",
       "0  user id enrondlr pw bnaweb22 original message ...      0  \n",
       "1  hi chris tonight rolling new report currently ...      0  \n",
       "2  rika r new original message thomas paul sent f...      0  \n",
       "3  johngerald currently trading gtc spot contract...      0  \n",
       "4  gerald stacy attached worksheet new master phy...      0  "
      ]
     },
     "execution_count": 398,
     "metadata": {},
     "output_type": "execute_result"
    }
   ],
   "source": [
    "df['body']=df['body'].apply(stemming)\n",
    "df['subject']=df['subject'].apply(stemming)\n",
    "df.head()"
   ]
  },
  {
   "cell_type": "code",
   "execution_count": 405,
   "metadata": {},
   "outputs": [],
   "source": [
    "df['combined_text'] = df['subject'] + ' ' + df['body']\n",
    "\n",
    "# Initialize CountVectorizer for each text feature\n",
    "count_vectorizer_new = CountVectorizer()\n",
    "\n",
    "text_vectorized = count_vectorizer_new.fit_transform(df['combined_text'])\n"
   ]
  },
  {
   "cell_type": "code",
   "execution_count": 408,
   "metadata": {},
   "outputs": [],
   "source": [
    "\n",
    "X_train,X_test,y_train,y_test = train_test_split(text_vectorized,df['label'],test_size=0.35)"
   ]
  },
  {
   "cell_type": "code",
   "execution_count": 409,
   "metadata": {},
   "outputs": [
    {
     "name": "stdout",
     "output_type": "stream",
     "text": [
      "(4046, 109437)\n",
      "(2179, 109437)\n",
      "(4046,)\n",
      "(2179,)\n"
     ]
    }
   ],
   "source": [
    "print(X_train.shape)\n",
    "print(X_test.shape)\n",
    "print(y_train.shape)\n",
    "print(y_test.shape)\n"
   ]
  },
  {
   "cell_type": "code",
   "execution_count": 410,
   "metadata": {},
   "outputs": [
    {
     "data": {
      "text/html": [
       "<style>#sk-container-id-14 {color: black;}#sk-container-id-14 pre{padding: 0;}#sk-container-id-14 div.sk-toggleable {background-color: white;}#sk-container-id-14 label.sk-toggleable__label {cursor: pointer;display: block;width: 100%;margin-bottom: 0;padding: 0.3em;box-sizing: border-box;text-align: center;}#sk-container-id-14 label.sk-toggleable__label-arrow:before {content: \"▸\";float: left;margin-right: 0.25em;color: #696969;}#sk-container-id-14 label.sk-toggleable__label-arrow:hover:before {color: black;}#sk-container-id-14 div.sk-estimator:hover label.sk-toggleable__label-arrow:before {color: black;}#sk-container-id-14 div.sk-toggleable__content {max-height: 0;max-width: 0;overflow: hidden;text-align: left;background-color: #f0f8ff;}#sk-container-id-14 div.sk-toggleable__content pre {margin: 0.2em;color: black;border-radius: 0.25em;background-color: #f0f8ff;}#sk-container-id-14 input.sk-toggleable__control:checked~div.sk-toggleable__content {max-height: 200px;max-width: 100%;overflow: auto;}#sk-container-id-14 input.sk-toggleable__control:checked~label.sk-toggleable__label-arrow:before {content: \"▾\";}#sk-container-id-14 div.sk-estimator input.sk-toggleable__control:checked~label.sk-toggleable__label {background-color: #d4ebff;}#sk-container-id-14 div.sk-label input.sk-toggleable__control:checked~label.sk-toggleable__label {background-color: #d4ebff;}#sk-container-id-14 input.sk-hidden--visually {border: 0;clip: rect(1px 1px 1px 1px);clip: rect(1px, 1px, 1px, 1px);height: 1px;margin: -1px;overflow: hidden;padding: 0;position: absolute;width: 1px;}#sk-container-id-14 div.sk-estimator {font-family: monospace;background-color: #f0f8ff;border: 1px dotted black;border-radius: 0.25em;box-sizing: border-box;margin-bottom: 0.5em;}#sk-container-id-14 div.sk-estimator:hover {background-color: #d4ebff;}#sk-container-id-14 div.sk-parallel-item::after {content: \"\";width: 100%;border-bottom: 1px solid gray;flex-grow: 1;}#sk-container-id-14 div.sk-label:hover label.sk-toggleable__label {background-color: #d4ebff;}#sk-container-id-14 div.sk-serial::before {content: \"\";position: absolute;border-left: 1px solid gray;box-sizing: border-box;top: 0;bottom: 0;left: 50%;z-index: 0;}#sk-container-id-14 div.sk-serial {display: flex;flex-direction: column;align-items: center;background-color: white;padding-right: 0.2em;padding-left: 0.2em;position: relative;}#sk-container-id-14 div.sk-item {position: relative;z-index: 1;}#sk-container-id-14 div.sk-parallel {display: flex;align-items: stretch;justify-content: center;background-color: white;position: relative;}#sk-container-id-14 div.sk-item::before, #sk-container-id-14 div.sk-parallel-item::before {content: \"\";position: absolute;border-left: 1px solid gray;box-sizing: border-box;top: 0;bottom: 0;left: 50%;z-index: -1;}#sk-container-id-14 div.sk-parallel-item {display: flex;flex-direction: column;z-index: 1;position: relative;background-color: white;}#sk-container-id-14 div.sk-parallel-item:first-child::after {align-self: flex-end;width: 50%;}#sk-container-id-14 div.sk-parallel-item:last-child::after {align-self: flex-start;width: 50%;}#sk-container-id-14 div.sk-parallel-item:only-child::after {width: 0;}#sk-container-id-14 div.sk-dashed-wrapped {border: 1px dashed gray;margin: 0 0.4em 0.5em 0.4em;box-sizing: border-box;padding-bottom: 0.4em;background-color: white;}#sk-container-id-14 div.sk-label label {font-family: monospace;font-weight: bold;display: inline-block;line-height: 1.2em;}#sk-container-id-14 div.sk-label-container {text-align: center;}#sk-container-id-14 div.sk-container {/* jupyter's `normalize.less` sets `[hidden] { display: none; }` but bootstrap.min.css set `[hidden] { display: none !important; }` so we also need the `!important` here to be able to override the default hidden behavior on the sphinx rendered scikit-learn.org. See: https://github.com/scikit-learn/scikit-learn/issues/21755 */display: inline-block !important;position: relative;}#sk-container-id-14 div.sk-text-repr-fallback {display: none;}</style><div id=\"sk-container-id-14\" class=\"sk-top-container\"><div class=\"sk-text-repr-fallback\"><pre>MultinomialNB()</pre><b>In a Jupyter environment, please rerun this cell to show the HTML representation or trust the notebook. <br />On GitHub, the HTML representation is unable to render, please try loading this page with nbviewer.org.</b></div><div class=\"sk-container\" hidden><div class=\"sk-item\"><div class=\"sk-estimator sk-toggleable\"><input class=\"sk-toggleable__control sk-hidden--visually\" id=\"sk-estimator-id-14\" type=\"checkbox\" checked><label for=\"sk-estimator-id-14\" class=\"sk-toggleable__label sk-toggleable__label-arrow\">MultinomialNB</label><div class=\"sk-toggleable__content\"><pre>MultinomialNB()</pre></div></div></div></div></div>"
      ],
      "text/plain": [
       "MultinomialNB()"
      ]
     },
     "execution_count": 410,
     "metadata": {},
     "output_type": "execute_result"
    }
   ],
   "source": [
    "svm.fit(X_train,y_train)"
   ]
  },
  {
   "cell_type": "code",
   "execution_count": 411,
   "metadata": {},
   "outputs": [],
   "source": [
    "y_pred = svm.predict(X_test)"
   ]
  },
  {
   "cell_type": "code",
   "execution_count": 412,
   "metadata": {},
   "outputs": [
    {
     "name": "stdout",
     "output_type": "stream",
     "text": [
      "99.44928866452501\n",
      "              precision    recall  f1-score   support\n",
      "\n",
      "           0       0.99      1.00      0.99      1036\n",
      "           1       1.00      0.99      0.99      1143\n",
      "\n",
      "    accuracy                           0.99      2179\n",
      "   macro avg       0.99      0.99      0.99      2179\n",
      "weighted avg       0.99      0.99      0.99      2179\n",
      "\n"
     ]
    }
   ],
   "source": [
    "accuracy= 100*accuracy_score(y_test,y_pred,normalize= True)\n",
    "print(accuracy)\n",
    "print(classification_report(y_test,y_pred))"
   ]
  },
  {
   "cell_type": "code",
   "execution_count": 419,
   "metadata": {},
   "outputs": [],
   "source": [
    "from joblib import dump, load"
   ]
  },
  {
   "cell_type": "code",
   "execution_count": 421,
   "metadata": {},
   "outputs": [
    {
     "name": "stderr",
     "output_type": "stream",
     "text": [
      "<>:1: SyntaxWarning: invalid escape sequence '\\H'\n",
      "<>:1: SyntaxWarning: invalid escape sequence '\\H'\n",
      "C:\\Users\\nitu2\\AppData\\Local\\Temp\\ipykernel_14008\\1150797273.py:1: SyntaxWarning: invalid escape sequence '\\H'\n",
      "  dump(svm,'E:\\Hack-o-mania-advitiya-\\mail_phishing_detection_model.joblib')\n"
     ]
    },
    {
     "data": {
      "text/plain": [
       "['E:\\\\Hack-o-mania-advitiya-\\\\mail_phishing_detection_model.joblib']"
      ]
     },
     "execution_count": 421,
     "metadata": {},
     "output_type": "execute_result"
    }
   ],
   "source": [
    "dump(svm,'E:\\Hack-o-mania-advitiya-\\mail_phishing_detection_model.joblib')"
   ]
  },
  {
   "cell_type": "code",
   "execution_count": null,
   "metadata": {},
   "outputs": [],
   "source": []
  }
 ],
 "metadata": {
  "kernelspec": {
   "display_name": "Python 3",
   "language": "python",
   "name": "python3"
  },
  "language_info": {
   "codemirror_mode": {
    "name": "ipython",
    "version": 3
   },
   "file_extension": ".py",
   "mimetype": "text/x-python",
   "name": "python",
   "nbconvert_exporter": "python",
   "pygments_lexer": "ipython3",
   "version": "3.12.0"
  }
 },
 "nbformat": 4,
 "nbformat_minor": 2
}
